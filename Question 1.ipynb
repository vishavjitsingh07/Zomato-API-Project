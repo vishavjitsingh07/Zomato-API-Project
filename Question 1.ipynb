{
 "cells": [
  {
   "cell_type": "markdown",
   "metadata": {},
   "source": [
    "### The dataset is highly skewed toward the cities included in Delhi-NCR. So, we will summarise all the other cities in Rest of India while those in New Delhi, Ghaziabad, Noida, Gurgaon, Faridabad to Delhi-NCR. Doing this would make our analysis turn toward Delhi-NCR v Rest of India."
   ]
  },
  {
   "cell_type": "markdown",
   "metadata": {},
   "source": [
    "#### 1. Plot the bar graph of number of restaurants present in Delhi NCR vs Rest of India."
   ]
  },
  {
   "cell_type": "code",
   "execution_count": 1,
   "metadata": {},
   "outputs": [],
   "source": [
    "import csv\n",
    "import pandas as pd\n",
    "import matplotlib.pyplot as plt\n",
    "import requests\n",
    "import json\n",
    "from requests.auth import HTTPBasicAuth"
   ]
  },
  {
   "cell_type": "code",
   "execution_count": 2,
   "metadata": {
    "scrolled": false
   },
   "outputs": [],
   "source": [
    "with open(\"zomato.csv\", errors = \"ignore\", encoding = \"utf-8\") as file: #errors = ignore so file become error free\n",
    "    file_data = csv.DictReader(file, skipinitialspace = True)\n",
    "    file_list = list(file_data)\n",
    "    \n",
    "zomato = pd.DataFrame(file_list) #Converting csv file to Dataframe"
   ]
  },
  {
   "cell_type": "code",
   "execution_count": 3,
   "metadata": {},
   "outputs": [],
   "source": [
    "z = zomato[zomato[\"Country Code\"] == \"1\"].copy() #Make a copy so changes will not refelect in original one\n",
    "\n",
    "count_res_ncr = z[(z[\"City\"] == \"Faridabad\") | (z[\"City\"] == \"Noida\") | (z[\"City\"] == \"New Delhi\") | \n",
    "            (z[\"City\"] == \"Ghaziabad\") | (z[\"City\"] == \"Gurgaon\")][\"Restaurant ID\"].count() \n",
    "#Finding total number of resturants In delhi ncr\n",
    "\n",
    "count_res_roi = z[\"Restaurant ID\"].count() - count_res_ncr\n",
    "#Finding resturants in ret of india"
   ]
  },
  {
   "cell_type": "code",
   "execution_count": 4,
   "metadata": {},
   "outputs": [
    {
     "data": {
      "image/png": "[encoded data removed]",
      "text/plain": [
       "<Figure size 432x288 with 1 Axes>"
      ]
     },
     "metadata": {
      "needs_background": "light"
     },
     "output_type": "display_data"
    }
   ],
   "source": [
    "#plotting the graph\n",
    "labels = [\"Restaurant in Delhi NCR\", \"Restaurant in rest of India\"] #labeling the graph\n",
    "plt.bar(labels, [count_res_ncr, count_res_roi], width = .5)\n",
    "plt.show()"
   ]
  },
  {
   "cell_type": "markdown",
   "metadata": {},
   "source": [
    "#### 2.Find the cuisines which are not present in restaurant of Delhi NCR but present in rest of India.Check using Zomato API whether this cuisines are actually not served in restaurants of Delhi-NCR or just it due to incomplete dataset."
   ]
  },
  {
   "cell_type": "code",
   "execution_count": 5,
   "metadata": {
    "scrolled": true
   },
   "outputs": [
    {
     "name": "stdout",
     "output_type": "stream",
     "text": [
      "Cuisines That are in not in Delhi NCR but present in rest of India\n",
      "Cajun\n",
      "German\n",
      "Malwani\n",
      "BBQ\n"
     ]
    }
   ],
   "source": [
    "z_ncr = z[(z[\"City\"] == \"Faridabad\") | (z[\"City\"] == \"Noida\") | (z[\"City\"] == \"New Delhi\") | \n",
    "            (z[\"City\"] == \"Ghaziabad\") | (z[\"City\"] == \"Gurgaon\")].copy()\n",
    "\n",
    "z_roi = z[(z[\"City\"] != \"Faridabad\") & (z[\"City\"] != \"Noida\") & (z[\"City\"] != \"New Delhi\") & \n",
    "            (z[\"City\"] != \"Ghaziabad\") & (z[\"City\"] != \"Gurgaon\")].copy()\n",
    "\n",
    "set_ncr = set()\n",
    "set_roi = set()\n",
    "\n",
    "for i in z_ncr[\"Cuisines\"]:\n",
    "    l = i.split(\", \")\n",
    "    for j in l:\n",
    "        set_ncr.add(j)\n",
    "        \n",
    "for i in z_roi[\"Cuisines\"]:\n",
    "    l = i.split(\", \")\n",
    "    for j in l:\n",
    "        set_roi.add(j)\n",
    "        \n",
    "print(\"Cuisines That are in not in Delhi NCR but present in rest of India\")\n",
    "\n",
    "diff =  set_roi - set_ncr\n",
    "for i in diff:\n",
    "    print(i)"
   ]
  },
  {
   "cell_type": "raw",
   "metadata": {},
   "source": [
    "Cross checking with Zomato API"
   ]
  },
  {
   "cell_type": "code",
   "execution_count": 6,
   "metadata": {},
   "outputs": [
    {
     "name": "stdout",
     "output_type": "stream",
     "text": [
      "Cuisines which are in ncr through zomato api but not in rest in india by dataset are\n",
      "German\n",
      "Cajun\n"
     ]
    }
   ],
   "source": [
    "import requests,json\n",
    "header = {'Accept':'application/json','user-key':'d35451bc6dc04b3662194e3fce301ced'}\n",
    "response = requests.get('https://api.zomato.com/v2.1/cities', params = {'q':'delhi'}, headers = header)\n",
    "\n",
    "response = response.json()\n",
    "city_id = response['location_suggestions'][0]['id']\n",
    "response = requests.get('https://api.zomato.com/v2.1/cuisines', params = {'city_id':city_id}, headers=header)\n",
    "response = response.json()\n",
    "\n",
    "li = []\n",
    "for i in range(len(response['cuisines'])):\n",
    "    li.append(response['cuisines'][i]['cuisine']['cuisine_name'])\n",
    "\n",
    "li = set(li)\n",
    "l = diff.difference(li)\n",
    "print('Cuisines which are in ncr through zomato api but not in rest in india by dataset are')\n",
    "for ele in list(l):\n",
    "    print(ele)"
   ]
  },
  {
   "cell_type": "markdown",
   "metadata": {},
   "source": [
    "#### 3. Find the top 10 cuisines served by maximum number of restaurants in Delhi NCR and rest of India."
   ]
  },
  {
   "cell_type": "code",
   "execution_count": 7,
   "metadata": {},
   "outputs": [
    {
     "name": "stdout",
     "output_type": "stream",
     "text": [
      "10 famous Cuisines in Delhi NCR\n",
      "\n",
      "North Indian 3597\n",
      "Chinese 2448\n",
      "Fast Food 1866\n",
      "Mughlai 933\n",
      "Bakery 697\n",
      "South Indian 569\n",
      "Continental 547\n",
      "Desserts 542\n",
      "Street Food 538\n",
      "Italian 535\n",
      "\n",
      "\n",
      "10 famous Cuisines in Rest of India\n",
      "\n",
      "North Indian 349\n",
      "Chinese 242\n",
      "Continental 177\n",
      "Italian 147\n",
      "Cafe 136\n",
      "Fast Food 97\n",
      "South Indian 62\n",
      "Mughlai 59\n",
      "Desserts 55\n",
      "Mexican 50\n"
     ]
    }
   ],
   "source": [
    "dict_ncr = {} #Dictionary of cuisines famous in Delhi-NCR\n",
    "dict_roi = {} ##Dictionary of cuisines famous in Rest of india\n",
    "\n",
    "for i in z_ncr[\"Cuisines\"]:\n",
    "    l = i.split(\", \")\n",
    "    for j in l:\n",
    "        dict_ncr[j] = dict_ncr.get(j, 0) + 1\n",
    "        \n",
    "dict_ncr = {key: value for key, value in sorted(dict_ncr.items(), key=lambda item: item[1], reverse = True)[:10]}\n",
    "#Sorting the dictionary on the basis of keys\n",
    "\n",
    "for i in z_roi[\"Cuisines\"]:\n",
    "    l = i.split(\", \")\n",
    "    for j in l:\n",
    "        dict_roi[j] = dict_roi.get(j, 0) + 1\n",
    "        \n",
    "dict_roi  = {key: value for key, value in sorted(dict_roi.items(), key=lambda item: item[1], reverse = True)[:10]}\n",
    "#Sorting the dictionary on the basis of keys\n",
    "\n",
    "print(\"10 famous Cuisines in Delhi NCR\\n\")\n",
    "\n",
    "for i in dict_ncr:\n",
    "    print(i, dict_ncr[i])\n",
    "\n",
    "print(\"\\n\\n10 famous Cuisines in Rest of India\\n\")\n",
    "for i in dict_roi:\n",
    "    print(i, dict_roi[i])"
   ]
  },
  {
   "cell_type": "markdown",
   "metadata": {},
   "source": [
    "#### 4. Write a short detailed analysis of how cuisine served is different from Delhi NCR to Rest of India. Plot the suitable graph to explain your inference."
   ]
  },
  {
   "cell_type": "code",
   "execution_count": 8,
   "metadata": {},
   "outputs": [
    {
     "data": {
      "image/png": "[encoded data removed]",
      "text/plain": [
       "<Figure size 432x288 with 1 Axes>"
      ]
     },
     "metadata": {
      "needs_background": "light"
     },
     "output_type": "display_data"
    },
    {
     "data": {
      "image/png": "[encoded data removed]",
      "text/plain": [
       "<Figure size 432x288 with 1 Axes>"
      ]
     },
     "metadata": {
      "needs_background": "light"
     },
     "output_type": "display_data"
    }
   ],
   "source": [
    "a_cuisines_ncr = [] #list of top cuisines in Delhi-NCR \n",
    "a_cuisines_roi = [] #list of top cuisines in Rest of india\n",
    "a_count_ncr = [] #Count of cuisines in Delhi-NCR\n",
    "a_count_roi = [] ##Count of cuisines in Rest of india\n",
    "\n",
    "for i in dict_ncr:\n",
    "    a_cuisines_ncr.append(i) \n",
    "    \n",
    "for i in dict_roi:\n",
    "    a_cuisines_roi.append(i)\n",
    "\n",
    "    \n",
    "for i in a_cuisines_ncr:\n",
    "    for j in dict_ncr:\n",
    "        if i == j:\n",
    "            a_count_ncr.append(dict_ncr[j])\n",
    "    \n",
    "for i in a_cuisines_roi:\n",
    "    for j in dict_roi:\n",
    "        if i == j:\n",
    "            a_count_roi.append(dict_roi[j])  \n",
    "    \n",
    "#Plotting the graph\n",
    "plt.bar(a_cuisines_ncr, a_count_ncr)\n",
    "plt.xticks(rotation = 50)\n",
    "plt.legend([\"Delhi NCR\"])\n",
    "plt.xlabel(\"Food Cuisines\")\n",
    "plt.ylabel(\"Food Count\")\n",
    "plt.show()\n",
    "\n",
    "plt.bar(a_cuisines_roi, a_count_roi)\n",
    "plt.xticks(rotation = 50)\n",
    "plt.legend([\"Rest of india\"])\n",
    "plt.xlabel(\"Food Cuisines\")\n",
    "plt.ylabel(\"Food Count\")\n",
    "plt.show()"
   ]
  }
 ],
 "metadata": {
  "kernelspec": {
   "display_name": "Python 3",
   "language": "python",
   "name": "python3"
  },
  "language_info": {
   "codemirror_mode": {
    "name": "ipython",
    "version": 3
   },
   "file_extension": ".py",
   "mimetype": "text/x-python",
   "name": "python",
   "nbconvert_exporter": "python",
   "pygments_lexer": "ipython3",
   "version": "3.8.5"
  }
 },
 "nbformat": 4,
 "nbformat_minor": 4
}
